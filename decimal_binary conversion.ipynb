{
 "cells": [
  {
   "cell_type": "code",
   "execution_count": 3,
   "id": "4c00d068",
   "metadata": {},
   "outputs": [
    {
     "name": "stdout",
     "output_type": "stream",
     "text": [
      "enter the number for binary conversion-456\n",
      "-1 1 1 0 0 1 0 0 0\n"
     ]
    }
   ],
   "source": [
    "#a python function that converts a  decimal number to binary  number\n",
    "num=str(input(\"enter the number for binary conversion\"))\n",
    "z= \"\".join([i for i in num if i.isdigit()])\n",
    "x=int(z)\n",
    "s= \"-\"\n",
    "lis=[]\n",
    "while x>=1:\n",
    "    y=x%2\n",
    "    lis.append(y)\n",
    "    x=x//2\n",
    "lis.reverse()    \n",
    "binary=' '.join([str(m) for m in lis])\n",
    "if int(num)>0:\n",
    "    print(binary)\n",
    "elif int(num)<0:\n",
    "    print(s+binary)\n",
    "else:\n",
    "    print(\"0 is the binary number for the decimal number 0\")\n",
    "     "
   ]
  },
  {
   "cell_type": "code",
   "execution_count": null,
   "id": "9e18eaf5",
   "metadata": {},
   "outputs": [],
   "source": [
    "#a python function that converts a  binary number to  decimal number\n",
    "num1=[int(i) for i in input(\"enter the binary number for decimal conversion\").split()]\n",
    "decimal=0\n",
    "for i in range(len(num1)):\n",
    "    decimal=decimal+(2**(i))*num1[-(i+1)]\n",
    "print(decimal)"
   ]
  },
  {
   "cell_type": "code",
   "execution_count": null,
   "id": "ed580c01",
   "metadata": {},
   "outputs": [],
   "source": []
  }
 ],
 "metadata": {
  "kernelspec": {
   "display_name": "Python 3 (ipykernel)",
   "language": "python",
   "name": "python3"
  },
  "language_info": {
   "codemirror_mode": {
    "name": "ipython",
    "version": 3
   },
   "file_extension": ".py",
   "mimetype": "text/x-python",
   "name": "python",
   "nbconvert_exporter": "python",
   "pygments_lexer": "ipython3",
   "version": "3.9.13"
  }
 },
 "nbformat": 4,
 "nbformat_minor": 5
}
